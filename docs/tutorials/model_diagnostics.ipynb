{
 "cells": [
  {
   "cell_type": "markdown",
   "metadata": {},
   "source": [
    "# Model Diagnostics\n",
    "\n",
    "In this section, we introduce to a few recommended diagnostic plots to diagnostic Orbit models. The  posterior samples in **SVI** and **Full Bayesian** i.e. `FullBayesianForecaster` and `SVIForecaster`.\n",
    "\n",
    "The plots are created by [arviz](https://arviz-devs.github.io/arviz/index.html) for the plots. **ArviZ** is a Python package for exploratory analysis of Bayesian models, includes functions for posterior analysis, data storage, model checking, comparison and diagnostics.\n",
    "\n",
    "- Trace plot\n",
    "- Pair plot\n",
    "- Density plot"
   ]
  },
  {
   "cell_type": "code",
   "execution_count": 1,
   "metadata": {
    "ExecuteTime": {
     "end_time": "2022-05-18T23:47:03.916771Z",
     "start_time": "2022-05-18T23:47:01.261475Z"
    }
   },
   "outputs": [],
   "source": [
    "import pandas as pd\n",
    "import numpy as np\n",
    "import matplotlib.pyplot as plt\n",
    "import arviz as az\n",
    "import seaborn as sns\n",
    "\n",
    "\n",
    "%matplotlib inline\n",
    "\n",
    "import orbit\n",
    "from orbit.models import LGT, DLT\n",
    "from orbit.utils.dataset import load_iclaims\n",
    "\n",
    "import warnings\n",
    "warnings.filterwarnings('ignore')\n",
    "\n",
    "from orbit.diagnostics.plot import params_comparison_boxplot\n",
    "from orbit.constants import palette"
   ]
  },
  {
   "cell_type": "code",
   "execution_count": 2,
   "metadata": {
    "ExecuteTime": {
     "end_time": "2022-05-18T23:47:03.922075Z",
     "start_time": "2022-05-18T23:47:03.918738Z"
    }
   },
   "outputs": [
    {
     "name": "stdout",
     "output_type": "stream",
     "text": [
      "1.1.4.4\n"
     ]
    }
   ],
   "source": [
    "print(orbit.__version__)"
   ]
  },
  {
   "cell_type": "markdown",
   "metadata": {},
   "source": [
    "## Load data"
   ]
  },
  {
   "cell_type": "code",
   "execution_count": 3,
   "metadata": {
    "ExecuteTime": {
     "end_time": "2022-05-18T23:47:05.540464Z",
     "start_time": "2022-05-18T23:47:04.130876Z"
    }
   },
   "outputs": [
    {
     "data": {
      "text/plain": [
       "week              datetime64[ns]\n",
       "claims                   float64\n",
       "trend.unemploy           float64\n",
       "trend.filling            float64\n",
       "trend.job                float64\n",
       "sp500                    float64\n",
       "vix                      float64\n",
       "dtype: object"
      ]
     },
     "execution_count": 3,
     "metadata": {},
     "output_type": "execute_result"
    }
   ],
   "source": [
    "df = load_iclaims()\n",
    "df.dtypes"
   ]
  },
  {
   "cell_type": "code",
   "execution_count": 4,
   "metadata": {
    "ExecuteTime": {
     "end_time": "2022-05-18T23:47:05.554386Z",
     "start_time": "2022-05-18T23:47:05.542373Z"
    }
   },
   "outputs": [
    {
     "data": {
      "text/html": [
       "<div>\n",
       "<style scoped>\n",
       "    .dataframe tbody tr th:only-of-type {\n",
       "        vertical-align: middle;\n",
       "    }\n",
       "\n",
       "    .dataframe tbody tr th {\n",
       "        vertical-align: top;\n",
       "    }\n",
       "\n",
       "    .dataframe thead th {\n",
       "        text-align: right;\n",
       "    }\n",
       "</style>\n",
       "<table border=\"1\" class=\"dataframe\">\n",
       "  <thead>\n",
       "    <tr style=\"text-align: right;\">\n",
       "      <th></th>\n",
       "      <th>week</th>\n",
       "      <th>claims</th>\n",
       "      <th>trend.unemploy</th>\n",
       "      <th>trend.filling</th>\n",
       "      <th>trend.job</th>\n",
       "      <th>sp500</th>\n",
       "      <th>vix</th>\n",
       "    </tr>\n",
       "  </thead>\n",
       "  <tbody>\n",
       "    <tr>\n",
       "      <th>0</th>\n",
       "      <td>2010-01-03</td>\n",
       "      <td>13.386595</td>\n",
       "      <td>0.219882</td>\n",
       "      <td>-0.318452</td>\n",
       "      <td>0.117500</td>\n",
       "      <td>-0.417633</td>\n",
       "      <td>0.122654</td>\n",
       "    </tr>\n",
       "    <tr>\n",
       "      <th>1</th>\n",
       "      <td>2010-01-10</td>\n",
       "      <td>13.624218</td>\n",
       "      <td>0.219882</td>\n",
       "      <td>-0.194838</td>\n",
       "      <td>0.168794</td>\n",
       "      <td>-0.425480</td>\n",
       "      <td>0.110445</td>\n",
       "    </tr>\n",
       "    <tr>\n",
       "      <th>2</th>\n",
       "      <td>2010-01-17</td>\n",
       "      <td>13.398741</td>\n",
       "      <td>0.236143</td>\n",
       "      <td>-0.292477</td>\n",
       "      <td>0.117500</td>\n",
       "      <td>-0.465229</td>\n",
       "      <td>0.532339</td>\n",
       "    </tr>\n",
       "    <tr>\n",
       "      <th>3</th>\n",
       "      <td>2010-01-24</td>\n",
       "      <td>13.137549</td>\n",
       "      <td>0.203353</td>\n",
       "      <td>-0.194838</td>\n",
       "      <td>0.106918</td>\n",
       "      <td>-0.481751</td>\n",
       "      <td>0.428645</td>\n",
       "    </tr>\n",
       "    <tr>\n",
       "      <th>4</th>\n",
       "      <td>2010-01-31</td>\n",
       "      <td>13.196760</td>\n",
       "      <td>0.134360</td>\n",
       "      <td>-0.242466</td>\n",
       "      <td>0.074483</td>\n",
       "      <td>-0.488929</td>\n",
       "      <td>0.487404</td>\n",
       "    </tr>\n",
       "  </tbody>\n",
       "</table>\n",
       "</div>"
      ],
      "text/plain": [
       "        week     claims  trend.unemploy  trend.filling  trend.job     sp500  \\\n",
       "0 2010-01-03  13.386595        0.219882      -0.318452   0.117500 -0.417633   \n",
       "1 2010-01-10  13.624218        0.219882      -0.194838   0.168794 -0.425480   \n",
       "2 2010-01-17  13.398741        0.236143      -0.292477   0.117500 -0.465229   \n",
       "3 2010-01-24  13.137549        0.203353      -0.194838   0.106918 -0.481751   \n",
       "4 2010-01-31  13.196760        0.134360      -0.242466   0.074483 -0.488929   \n",
       "\n",
       "        vix  \n",
       "0  0.122654  \n",
       "1  0.110445  \n",
       "2  0.532339  \n",
       "3  0.428645  \n",
       "4  0.487404  "
      ]
     },
     "execution_count": 4,
     "metadata": {},
     "output_type": "execute_result"
    }
   ],
   "source": [
    "df.head(5)"
   ]
  },
  {
   "cell_type": "markdown",
   "metadata": {},
   "source": [
    "## Fit a Model"
   ]
  },
  {
   "cell_type": "code",
   "execution_count": 5,
   "metadata": {
    "ExecuteTime": {
     "end_time": "2022-05-18T23:47:05.559693Z",
     "start_time": "2022-05-18T23:47:05.557147Z"
    }
   },
   "outputs": [],
   "source": [
    "DATE_COL = 'week'\n",
    "RESPONSE_COL = 'claims'\n",
    "REGRESSOR_COL = ['trend.unemploy', 'trend.filling', 'trend.job']"
   ]
  },
  {
   "cell_type": "code",
   "execution_count": 6,
   "metadata": {
    "ExecuteTime": {
     "end_time": "2022-05-18T23:47:05.565232Z",
     "start_time": "2022-05-18T23:47:05.562115Z"
    }
   },
   "outputs": [],
   "source": [
    "dlt = DLT(\n",
    "    response_col=RESPONSE_COL,\n",
    "    date_col=DATE_COL,\n",
    "    regressor_col=REGRESSOR_COL,\n",
    "    seasonality=52,\n",
    "    num_warmup=2000,\n",
    "    num_sample=2000,\n",
    "    chains=4,\n",
    "    stan_mcmc_args={'show_progress': False},\n",
    ")"
   ]
  },
  {
   "cell_type": "code",
   "execution_count": 7,
   "metadata": {
    "ExecuteTime": {
     "end_time": "2022-05-18T23:47:17.286098Z",
     "start_time": "2022-05-18T23:47:05.567347Z"
    },
    "scrolled": true,
    "tags": []
   },
   "outputs": [
    {
     "name": "stderr",
     "output_type": "stream",
     "text": [
      "2024-03-13 21:56:41 - orbit - INFO - Sampling (CmdStanPy) with chains: 4, cores: 8, temperature: 1.000, warmups (per chain): 500 and samples(per chain): 500.\n"
     ]
    },
    {
     "ename": "RuntimeError",
     "evalue": "Error during sampling:\n\nCommand and output files:\nRunSet: chains=4, chain_ids=[1, 2, 3, 4], num_processes=4\n cmd (chain 1):\n\t['/Users/towinazure/opt/miniconda3/envs/orbit-install-test/lib/python3.11/site-packages/orbit/stan/dlt', 'id=1', 'random', 'seed=8888', 'data', 'file=/var/folders/g0/77v1jc9s455cj14mkqcht0m00000gn/T/tmppnno4blc/wohkgoqe.json', 'init=/var/folders/g0/77v1jc9s455cj14mkqcht0m00000gn/T/tmppnno4blc/d7nf_h_f.json', 'output', 'file=/var/folders/g0/77v1jc9s455cj14mkqcht0m00000gn/T/tmppnno4blc/dltv6jkdq_r/dlt-20240313215642_1.csv', 'method=sample', 'num_samples=500', 'num_warmup=500', 'algorithm=hmc', 'adapt', 'engaged=1']\n retcodes=[-6, -6, -6, -6]\n per-chain output files (showing chain 1 only):\n csv_file:\n\t/var/folders/g0/77v1jc9s455cj14mkqcht0m00000gn/T/tmppnno4blc/dltv6jkdq_r/dlt-20240313215642_1.csv\n console_msgs (if any):\n\t/var/folders/g0/77v1jc9s455cj14mkqcht0m00000gn/T/tmppnno4blc/dltv6jkdq_r/dlt-20240313215642_0-stdout.txt\nConsider re-running with show_console=True if the above output is unclear!",
     "output_type": "error",
     "traceback": [
      "\u001b[0;31m---------------------------------------------------------------------------\u001b[0m",
      "\u001b[0;31mRuntimeError\u001b[0m                              Traceback (most recent call last)",
      "Cell \u001b[0;32mIn[7], line 1\u001b[0m\n\u001b[0;32m----> 1\u001b[0m \u001b[43mdlt\u001b[49m\u001b[38;5;241;43m.\u001b[39;49m\u001b[43mfit\u001b[49m\u001b[43m(\u001b[49m\u001b[43mdf\u001b[49m\u001b[38;5;241;43m=\u001b[39;49m\u001b[43mdf\u001b[49m\u001b[43m)\u001b[49m\n",
      "File \u001b[0;32m~/opt/miniconda3/envs/orbit-install-test/lib/python3.11/site-packages/orbit/forecaster/full_bayes.py:36\u001b[0m, in \u001b[0;36mFullBayesianForecaster.fit\u001b[0;34m(self, df, point_method, keep_samples, sampling_temperature, **kwargs)\u001b[0m\n\u001b[1;32m     28\u001b[0m \u001b[38;5;28;01mdef\u001b[39;00m \u001b[38;5;21mfit\u001b[39m(\n\u001b[1;32m     29\u001b[0m     \u001b[38;5;28mself\u001b[39m,\n\u001b[1;32m     30\u001b[0m     df,\n\u001b[0;32m   (...)\u001b[0m\n\u001b[1;32m     34\u001b[0m     \u001b[38;5;241m*\u001b[39m\u001b[38;5;241m*\u001b[39mkwargs,\n\u001b[1;32m     35\u001b[0m ):\n\u001b[0;32m---> 36\u001b[0m     \u001b[38;5;28;43msuper\u001b[39;49m\u001b[43m(\u001b[49m\u001b[43m)\u001b[49m\u001b[38;5;241;43m.\u001b[39;49m\u001b[43mfit\u001b[49m\u001b[43m(\u001b[49m\u001b[43mdf\u001b[49m\u001b[43m,\u001b[49m\u001b[43m \u001b[49m\u001b[43msampling_temperature\u001b[49m\u001b[38;5;241;43m=\u001b[39;49m\u001b[43msampling_temperature\u001b[49m\u001b[43m,\u001b[49m\u001b[43m \u001b[49m\u001b[38;5;241;43m*\u001b[39;49m\u001b[38;5;241;43m*\u001b[39;49m\u001b[43mkwargs\u001b[49m\u001b[43m)\u001b[49m\n\u001b[1;32m     37\u001b[0m     \u001b[38;5;28mself\u001b[39m\u001b[38;5;241m.\u001b[39m_point_method \u001b[38;5;241m=\u001b[39m point_method\n\u001b[1;32m     39\u001b[0m     \u001b[38;5;28;01mif\u001b[39;00m point_method \u001b[38;5;129;01mis\u001b[39;00m \u001b[38;5;129;01mnot\u001b[39;00m \u001b[38;5;28;01mNone\u001b[39;00m:\n",
      "File \u001b[0;32m~/opt/miniconda3/envs/orbit-install-test/lib/python3.11/site-packages/orbit/forecaster/forecaster.py:164\u001b[0m, in \u001b[0;36mForecaster.fit\u001b[0;34m(self, df, **kwargs)\u001b[0m\n\u001b[1;32m    160\u001b[0m model_param_names \u001b[38;5;241m=\u001b[39m \u001b[38;5;28mself\u001b[39m\u001b[38;5;241m.\u001b[39m_model\u001b[38;5;241m.\u001b[39mget_model_param_names()\n\u001b[1;32m    162\u001b[0m \u001b[38;5;66;03m# note that estimator will search for the .stan, .pyro model file based on the\u001b[39;00m\n\u001b[1;32m    163\u001b[0m \u001b[38;5;66;03m# estimator type and model_name provided\u001b[39;00m\n\u001b[0;32m--> 164\u001b[0m _posterior_samples, training_metrics \u001b[38;5;241m=\u001b[39m \u001b[43mestimator\u001b[49m\u001b[38;5;241;43m.\u001b[39;49m\u001b[43mfit\u001b[49m\u001b[43m(\u001b[49m\n\u001b[1;32m    165\u001b[0m \u001b[43m    \u001b[49m\u001b[43mmodel_name\u001b[49m\u001b[38;5;241;43m=\u001b[39;49m\u001b[43mmodel_name\u001b[49m\u001b[43m,\u001b[49m\n\u001b[1;32m    166\u001b[0m \u001b[43m    \u001b[49m\u001b[43mmodel_param_names\u001b[49m\u001b[38;5;241;43m=\u001b[39;49m\u001b[43mmodel_param_names\u001b[49m\u001b[43m,\u001b[49m\n\u001b[1;32m    167\u001b[0m \u001b[43m    \u001b[49m\u001b[43mdata_input\u001b[49m\u001b[38;5;241;43m=\u001b[39;49m\u001b[43mdata_input\u001b[49m\u001b[43m,\u001b[49m\n\u001b[1;32m    168\u001b[0m \u001b[43m    \u001b[49m\u001b[43mfitter\u001b[49m\u001b[38;5;241;43m=\u001b[39;49m\u001b[38;5;28;43mself\u001b[39;49m\u001b[38;5;241;43m.\u001b[39;49m\u001b[43m_model\u001b[49m\u001b[38;5;241;43m.\u001b[39;49m\u001b[43mget_fitter\u001b[49m\u001b[43m(\u001b[49m\u001b[43m)\u001b[49m\u001b[43m,\u001b[49m\n\u001b[1;32m    169\u001b[0m \u001b[43m    \u001b[49m\u001b[43minit_values\u001b[49m\u001b[38;5;241;43m=\u001b[39;49m\u001b[43minit_values\u001b[49m\u001b[43m,\u001b[49m\n\u001b[1;32m    170\u001b[0m \u001b[43m    \u001b[49m\u001b[38;5;241;43m*\u001b[39;49m\u001b[38;5;241;43m*\u001b[39;49m\u001b[43mkwargs\u001b[49m\u001b[43m,\u001b[49m\n\u001b[1;32m    171\u001b[0m \u001b[43m\u001b[49m\u001b[43m)\u001b[49m\n\u001b[1;32m    172\u001b[0m \u001b[38;5;28mself\u001b[39m\u001b[38;5;241m.\u001b[39m_posterior_samples \u001b[38;5;241m=\u001b[39m _posterior_samples\n\u001b[1;32m    173\u001b[0m \u001b[38;5;28mself\u001b[39m\u001b[38;5;241m.\u001b[39m_training_metrics \u001b[38;5;241m=\u001b[39m training_metrics\n",
      "File \u001b[0;32m~/opt/miniconda3/envs/orbit-install-test/lib/python3.11/site-packages/orbit/estimators/stan_estimator.py:143\u001b[0m, in \u001b[0;36mStanEstimatorMCMC.fit\u001b[0;34m(self, model_name, model_param_names, sampling_temperature, data_input, fitter, init_values)\u001b[0m\n\u001b[1;32m    139\u001b[0m compiled_mod \u001b[38;5;241m=\u001b[39m get_compiled_stan_model(stan_model_name\u001b[38;5;241m=\u001b[39mmodel_name)\n\u001b[1;32m    141\u001b[0m \u001b[38;5;66;03m# check https://mc-stan.org/cmdstanpy/api.html#cmdstanpy.CmdStanModel.sample\u001b[39;00m\n\u001b[1;32m    142\u001b[0m \u001b[38;5;66;03m# for additional args\u001b[39;00m\n\u001b[0;32m--> 143\u001b[0m stan_mcmc_fit \u001b[38;5;241m=\u001b[39m \u001b[43mcompiled_mod\u001b[49m\u001b[38;5;241;43m.\u001b[39;49m\u001b[43msample\u001b[49m\u001b[43m(\u001b[49m\n\u001b[1;32m    144\u001b[0m \u001b[43m    \u001b[49m\u001b[43mdata\u001b[49m\u001b[38;5;241;43m=\u001b[39;49m\u001b[43mdata_input\u001b[49m\u001b[43m,\u001b[49m\n\u001b[1;32m    145\u001b[0m \u001b[43m    \u001b[49m\u001b[43miter_sampling\u001b[49m\u001b[38;5;241;43m=\u001b[39;49m\u001b[38;5;28;43mself\u001b[39;49m\u001b[38;5;241;43m.\u001b[39;49m\u001b[43m_num_sample_per_chain\u001b[49m\u001b[43m,\u001b[49m\n\u001b[1;32m    146\u001b[0m \u001b[43m    \u001b[49m\u001b[43miter_warmup\u001b[49m\u001b[38;5;241;43m=\u001b[39;49m\u001b[38;5;28;43mself\u001b[39;49m\u001b[38;5;241;43m.\u001b[39;49m\u001b[43m_num_warmup_per_chain\u001b[49m\u001b[43m,\u001b[49m\n\u001b[1;32m    147\u001b[0m \u001b[43m    \u001b[49m\u001b[43mchains\u001b[49m\u001b[38;5;241;43m=\u001b[39;49m\u001b[38;5;28;43mself\u001b[39;49m\u001b[38;5;241;43m.\u001b[39;49m\u001b[43mchains\u001b[49m\u001b[43m,\u001b[49m\n\u001b[1;32m    148\u001b[0m \u001b[43m    \u001b[49m\u001b[43mparallel_chains\u001b[49m\u001b[38;5;241;43m=\u001b[39;49m\u001b[38;5;28;43mself\u001b[39;49m\u001b[38;5;241;43m.\u001b[39;49m\u001b[43mcores\u001b[49m\u001b[43m,\u001b[49m\n\u001b[1;32m    149\u001b[0m \u001b[43m    \u001b[49m\u001b[43minits\u001b[49m\u001b[38;5;241;43m=\u001b[39;49m\u001b[43minit_values\u001b[49m\u001b[43m,\u001b[49m\n\u001b[1;32m    150\u001b[0m \u001b[43m    \u001b[49m\u001b[43mseed\u001b[49m\u001b[38;5;241;43m=\u001b[39;49m\u001b[38;5;28;43mself\u001b[39;49m\u001b[38;5;241;43m.\u001b[39;49m\u001b[43mseed\u001b[49m\u001b[43m,\u001b[49m\n\u001b[1;32m    151\u001b[0m \u001b[43m    \u001b[49m\u001b[38;5;241;43m*\u001b[39;49m\u001b[38;5;241;43m*\u001b[39;49m\u001b[38;5;28;43mself\u001b[39;49m\u001b[38;5;241;43m.\u001b[39;49m\u001b[43m_stan_mcmc_args\u001b[49m\u001b[43m,\u001b[49m\n\u001b[1;32m    152\u001b[0m \u001b[43m\u001b[49m\u001b[43m)\u001b[49m\n\u001b[1;32m    154\u001b[0m stan_extract \u001b[38;5;241m=\u001b[39m stan_mcmc_fit\u001b[38;5;241m.\u001b[39mstan_variables()\n\u001b[1;32m    155\u001b[0m posteriors \u001b[38;5;241m=\u001b[39m {\n\u001b[1;32m    156\u001b[0m     param: stan_extract[param] \u001b[38;5;28;01mfor\u001b[39;00m param \u001b[38;5;129;01min\u001b[39;00m model_param_names \u001b[38;5;241m+\u001b[39m [\u001b[38;5;124m\"\u001b[39m\u001b[38;5;124mloglk\u001b[39m\u001b[38;5;124m\"\u001b[39m]\n\u001b[1;32m    157\u001b[0m }\n",
      "File \u001b[0;32m~/opt/miniconda3/envs/orbit-install-test/lib/python3.11/site-packages/cmdstanpy/model.py:1184\u001b[0m, in \u001b[0;36mCmdStanModel.sample\u001b[0;34m(self, data, chains, parallel_chains, threads_per_chain, seed, chain_ids, inits, iter_warmup, iter_sampling, save_warmup, thin, max_treedepth, metric, step_size, adapt_engaged, adapt_delta, adapt_init_phase, adapt_metric_window, adapt_step_size, fixed_param, output_dir, sig_figs, save_latent_dynamics, save_profile, show_progress, show_console, refresh, time_fmt, timeout, force_one_process_per_chain)\u001b[0m\n\u001b[1;32m   1179\u001b[0m     \u001b[38;5;28;01mif\u001b[39;00m \u001b[38;5;129;01mnot\u001b[39;00m show_console:\n\u001b[1;32m   1180\u001b[0m         msg \u001b[38;5;241m+\u001b[39m\u001b[38;5;241m=\u001b[39m (\n\u001b[1;32m   1181\u001b[0m             \u001b[38;5;124m'\u001b[39m\u001b[38;5;130;01m\\n\u001b[39;00m\u001b[38;5;124mConsider re-running with show_console=True if the\u001b[39m\u001b[38;5;124m'\u001b[39m\n\u001b[1;32m   1182\u001b[0m             \u001b[38;5;124m'\u001b[39m\u001b[38;5;124m above output is unclear!\u001b[39m\u001b[38;5;124m'\u001b[39m\n\u001b[1;32m   1183\u001b[0m         )\n\u001b[0;32m-> 1184\u001b[0m     \u001b[38;5;28;01mraise\u001b[39;00m \u001b[38;5;167;01mRuntimeError\u001b[39;00m(msg)\n\u001b[1;32m   1185\u001b[0m \u001b[38;5;28;01mif\u001b[39;00m errors:\n\u001b[1;32m   1186\u001b[0m     msg \u001b[38;5;241m=\u001b[39m \u001b[38;5;124mf\u001b[39m\u001b[38;5;124m'\u001b[39m\u001b[38;5;124mNon-fatal error during sampling:\u001b[39m\u001b[38;5;130;01m\\n\u001b[39;00m\u001b[38;5;132;01m{\u001b[39;00merrors\u001b[38;5;132;01m}\u001b[39;00m\u001b[38;5;124m'\u001b[39m\n",
      "\u001b[0;31mRuntimeError\u001b[0m: Error during sampling:\n\nCommand and output files:\nRunSet: chains=4, chain_ids=[1, 2, 3, 4], num_processes=4\n cmd (chain 1):\n\t['/Users/towinazure/opt/miniconda3/envs/orbit-install-test/lib/python3.11/site-packages/orbit/stan/dlt', 'id=1', 'random', 'seed=8888', 'data', 'file=/var/folders/g0/77v1jc9s455cj14mkqcht0m00000gn/T/tmppnno4blc/wohkgoqe.json', 'init=/var/folders/g0/77v1jc9s455cj14mkqcht0m00000gn/T/tmppnno4blc/d7nf_h_f.json', 'output', 'file=/var/folders/g0/77v1jc9s455cj14mkqcht0m00000gn/T/tmppnno4blc/dltv6jkdq_r/dlt-20240313215642_1.csv', 'method=sample', 'num_samples=500', 'num_warmup=500', 'algorithm=hmc', 'adapt', 'engaged=1']\n retcodes=[-6, -6, -6, -6]\n per-chain output files (showing chain 1 only):\n csv_file:\n\t/var/folders/g0/77v1jc9s455cj14mkqcht0m00000gn/T/tmppnno4blc/dltv6jkdq_r/dlt-20240313215642_1.csv\n console_msgs (if any):\n\t/var/folders/g0/77v1jc9s455cj14mkqcht0m00000gn/T/tmppnno4blc/dltv6jkdq_r/dlt-20240313215642_0-stdout.txt\nConsider re-running with show_console=True if the above output is unclear!"
     ]
    }
   ],
   "source": [
    "dlt.fit(df=df)"
   ]
  },
  {
   "cell_type": "markdown",
   "metadata": {},
   "source": [
    "We can use `.get_posterior_samples()` to extract posteriors. Note that we need `permute=False` to retrieve additional information such as chains when we extract posterior samples for posteriors plotting. For regression, in order to collapse and relabel regression from parameters (usually called as `beta`), we use `relabel=True`.  "
   ]
  },
  {
   "cell_type": "code",
   "execution_count": null,
   "metadata": {
    "ExecuteTime": {
     "end_time": "2022-05-18T23:47:17.306137Z",
     "start_time": "2022-05-18T23:47:17.288605Z"
    }
   },
   "outputs": [],
   "source": [
    "ps = dlt.get_posterior_samples(relabel=True, permute=False)\n",
    "ps.keys()"
   ]
  },
  {
   "cell_type": "markdown",
   "metadata": {},
   "source": [
    "## Diagnostics Visualization"
   ]
  },
  {
   "cell_type": "markdown",
   "metadata": {},
   "source": [
    "In the following section, we are going to use the regression coefficients as an example. In practice, you could check other parameters extracted from the model. For now, it only supports 1-D parameter which in generally capture the most important parameters of the model (e.g. `obs_sigma`, `lev_sm` etc.) "
   ]
  },
  {
   "cell_type": "markdown",
   "metadata": {},
   "source": [
    "### Convergence Status\n",
    "\n",
    "Trace plots help us verify the convergence of model. In general, a largely overlapped distribution across samples from different chains indicates the convergence."
   ]
  },
  {
   "cell_type": "code",
   "execution_count": null,
   "metadata": {
    "ExecuteTime": {
     "end_time": "2022-05-18T23:47:18.376938Z",
     "start_time": "2022-05-18T23:47:17.308415Z"
    }
   },
   "outputs": [],
   "source": [
    "az.style.use('arviz-darkgrid')\n",
    "az.plot_trace(\n",
    "    ps, \n",
    "    var_names=['trend.unemploy', 'trend.filling', 'trend.job'],\n",
    "    chain_prop={\"color\": ['r', 'b', 'g', 'y']},\n",
    "    figsize=(10, 8),\n",
    ");"
   ]
  },
  {
   "cell_type": "markdown",
   "metadata": {},
   "source": [
    "Note that this is only applicable for `FullBayesianForecaster` using sampling method such as MCMC."
   ]
  },
  {
   "cell_type": "markdown",
   "metadata": {},
   "source": [
    "### Samples Density"
   ]
  },
  {
   "cell_type": "markdown",
   "metadata": {},
   "source": [
    "We can also check the density of samples by pair plot."
   ]
  },
  {
   "cell_type": "code",
   "execution_count": null,
   "metadata": {
    "ExecuteTime": {
     "end_time": "2022-05-18T23:47:19.943974Z",
     "start_time": "2022-05-18T23:47:18.378648Z"
    }
   },
   "outputs": [],
   "source": [
    "az.plot_pair(\n",
    "    ps, \n",
    "    var_names=['trend.unemploy', 'trend.filling', 'trend.job'],\n",
    "    kind=[\"scatter\", \"kde\"],\n",
    "    marginals=True,\n",
    "    point_estimate=\"median\",\n",
    "    textsize=18.5,\n",
    ");"
   ]
  },
  {
   "cell_type": "markdown",
   "metadata": {},
   "source": [
    "### Compare Models\n",
    "\n",
    "You can also compare posteriors across different models with the same parameters. You can use plots such as density plot and forest plot to do so."
   ]
  },
  {
   "cell_type": "code",
   "execution_count": null,
   "metadata": {
    "ExecuteTime": {
     "end_time": "2022-05-18T23:47:33.697457Z",
     "start_time": "2022-05-18T23:47:19.945362Z"
    }
   },
   "outputs": [],
   "source": [
    "dlt_smaller_prior = DLT(\n",
    "    response_col=RESPONSE_COL,\n",
    "    date_col=DATE_COL,\n",
    "    regressor_col=REGRESSOR_COL,\n",
    "    regressor_sigma_prior=[0.05, 0.05, 0.05],\n",
    "    seasonality=52,\n",
    "    num_warmup=2000,\n",
    "    num_sample=2000,\n",
    "    chains=4,\n",
    "    stan_mcmc_args={'show_progress': False},\n",
    ")\n",
    "dlt_smaller_prior.fit(df=df)\n",
    "ps_smaller_prior = dlt_smaller_prior.get_posterior_samples(relabel=True, permute=False)"
   ]
  },
  {
   "cell_type": "code",
   "execution_count": null,
   "metadata": {
    "ExecuteTime": {
     "end_time": "2022-05-18T23:47:34.326548Z",
     "start_time": "2022-05-18T23:47:33.701892Z"
    },
    "scrolled": true
   },
   "outputs": [],
   "source": [
    "az.plot_density(\n",
    "    [ps, ps_smaller_prior],\n",
    "    var_names=['trend.unemploy', 'trend.filling', 'trend.job'],\n",
    "    data_labels=[\"Default\", \"Smaller Sigma\"],\n",
    "    shade=0.1,\n",
    "    textsize=18.5,\n",
    ");"
   ]
  },
  {
   "cell_type": "code",
   "execution_count": null,
   "metadata": {
    "ExecuteTime": {
     "end_time": "2022-05-18T23:47:34.586422Z",
     "start_time": "2022-05-18T23:47:34.328517Z"
    }
   },
   "outputs": [],
   "source": [
    "az.plot_forest(\n",
    "    [ps, ps_smaller_prior],\n",
    "    var_names=['trend.unemploy'],\n",
    "    model_names=[\"Default\", \"Smaller Sigma\"],\n",
    ");"
   ]
  },
  {
   "cell_type": "code",
   "execution_count": null,
   "metadata": {
    "ExecuteTime": {
     "end_time": "2022-05-18T23:48:25.609122Z",
     "start_time": "2022-05-18T23:48:25.263664Z"
    }
   },
   "outputs": [],
   "source": [
    "params_comparison_boxplot(\n",
    "        [ps, ps_smaller_prior],\n",
    "        var_names=['trend.unemploy', 'trend.filling', 'trend.job'],\n",
    "        model_names=[\"Default\", \"Smaller Sigma\"],\n",
    "        box_width = .1, box_distance=0.1, \n",
    "        showfliers=True\n",
    ");"
   ]
  },
  {
   "cell_type": "markdown",
   "metadata": {},
   "source": [
    "## Conclusion\n",
    "\n",
    "Orbit models allow multiple visualization to diagnostics models and compare different models. We briefly introduce some basic syntax and usage of `arviz`. There is an [example gallery](https://arviz-devs.github.io/arviz/examples/index.html) built by the original team. Users can learn the details and more advance usage there. Meanwhile, the Orbit team aims to continue expand the scope to leverage more work done from the `arviz` project."
   ]
  }
 ],
 "metadata": {
  "kernelspec": {
   "display_name": "orbit-test",
   "language": "python",
   "name": "myenv"
  },
  "language_info": {
   "codemirror_mode": {
    "name": "ipython",
    "version": 3
   },
   "file_extension": ".py",
   "mimetype": "text/x-python",
   "name": "python",
   "nbconvert_exporter": "python",
   "pygments_lexer": "ipython3",
   "version": "3.11.8"
  },
  "toc": {
   "base_numbering": 1,
   "nav_menu": {},
   "number_sections": true,
   "sideBar": true,
   "skip_h1_title": true,
   "title_cell": "Table of Contents",
   "title_sidebar": "Contents",
   "toc_cell": false,
   "toc_position": {},
   "toc_section_display": true,
   "toc_window_display": true
  }
 },
 "nbformat": 4,
 "nbformat_minor": 4
}
