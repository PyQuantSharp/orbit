{
 "cells": [
  {
   "cell_type": "markdown",
   "metadata": {},
   "source": [
    "# Handling Missing Response"
   ]
  },
  {
   "cell_type": "markdown",
   "metadata": {},
   "source": [
    "Because of the generative nature of the exponential smoothing models, they can naturally deal with missing response during the training process. It simply replaces observations by prediction during the 1-step ahead generating process. Below users can find the simple examples of how those exponential smoothing models handle missing responses."
   ]
  },
  {
   "cell_type": "code",
   "execution_count": 1,
   "metadata": {
    "ExecuteTime": {
     "end_time": "2022-04-28T21:47:57.724659Z",
     "start_time": "2022-04-28T21:47:55.004489Z"
    }
   },
   "outputs": [],
   "source": [
    "import pandas as pd\n",
    "import numpy as np\n",
    "import orbit\n",
    "import matplotlib.pyplot as plt\n",
    "\n",
    "from orbit.utils.dataset import load_iclaims\n",
    "from orbit.diagnostics.plot import plot_predicted_data, plot_predicted_components\n",
    "from orbit.utils.plot import get_orbit_style\n",
    "from orbit.models import ETS, LGT, DLT\n",
    "from orbit.diagnostics.metrics import smape\n",
    "\n",
    "plt.style.use(get_orbit_style())\n",
    "\n",
    "%load_ext autoreload\n",
    "%autoreload 2\n",
    "\n",
    "%matplotlib inline"
   ]
  },
  {
   "cell_type": "code",
   "execution_count": 2,
   "metadata": {
    "ExecuteTime": {
     "end_time": "2022-04-28T21:47:57.756898Z",
     "start_time": "2022-04-28T21:47:57.727245Z"
    }
   },
   "outputs": [
    {
     "data": {
      "text/plain": [
       "'1.1.4'"
      ]
     },
     "execution_count": 2,
     "metadata": {},
     "output_type": "execute_result"
    }
   ],
   "source": [
    "orbit.__version__"
   ]
  },
  {
   "cell_type": "markdown",
   "metadata": {},
   "source": [
    "## Data"
   ]
  },
  {
   "cell_type": "code",
   "execution_count": 3,
   "metadata": {
    "ExecuteTime": {
     "end_time": "2021-12-16T20:09:32.891272Z",
     "start_time": "2021-12-16T20:09:32.436317Z"
    }
   },
   "outputs": [
    {
     "data": {
      "text/html": [
       "<div>\n",
       "<style scoped>\n",
       "    .dataframe tbody tr th:only-of-type {\n",
       "        vertical-align: middle;\n",
       "    }\n",
       "\n",
       "    .dataframe tbody tr th {\n",
       "        vertical-align: top;\n",
       "    }\n",
       "\n",
       "    .dataframe thead th {\n",
       "        text-align: right;\n",
       "    }\n",
       "</style>\n",
       "<table border=\"1\" class=\"dataframe\">\n",
       "  <thead>\n",
       "    <tr style=\"text-align: right;\">\n",
       "      <th></th>\n",
       "      <th>week</th>\n",
       "      <th>claims</th>\n",
       "      <th>trend.unemploy</th>\n",
       "      <th>trend.filling</th>\n",
       "      <th>trend.job</th>\n",
       "      <th>sp500</th>\n",
       "      <th>vix</th>\n",
       "    </tr>\n",
       "  </thead>\n",
       "  <tbody>\n",
       "    <tr>\n",
       "      <th>0</th>\n",
       "      <td>2010-01-03</td>\n",
       "      <td>13.386595</td>\n",
       "      <td>0.219882</td>\n",
       "      <td>-0.318452</td>\n",
       "      <td>0.117500</td>\n",
       "      <td>-0.417633</td>\n",
       "      <td>0.122654</td>\n",
       "    </tr>\n",
       "    <tr>\n",
       "      <th>1</th>\n",
       "      <td>2010-01-10</td>\n",
       "      <td>13.624218</td>\n",
       "      <td>0.219882</td>\n",
       "      <td>-0.194838</td>\n",
       "      <td>0.168794</td>\n",
       "      <td>-0.425480</td>\n",
       "      <td>0.110445</td>\n",
       "    </tr>\n",
       "    <tr>\n",
       "      <th>2</th>\n",
       "      <td>2010-01-17</td>\n",
       "      <td>13.398741</td>\n",
       "      <td>0.236143</td>\n",
       "      <td>-0.292477</td>\n",
       "      <td>0.117500</td>\n",
       "      <td>-0.465229</td>\n",
       "      <td>0.532339</td>\n",
       "    </tr>\n",
       "    <tr>\n",
       "      <th>3</th>\n",
       "      <td>2010-01-24</td>\n",
       "      <td>13.137549</td>\n",
       "      <td>0.203353</td>\n",
       "      <td>-0.194838</td>\n",
       "      <td>0.106918</td>\n",
       "      <td>-0.481751</td>\n",
       "      <td>0.428645</td>\n",
       "    </tr>\n",
       "    <tr>\n",
       "      <th>4</th>\n",
       "      <td>2010-01-31</td>\n",
       "      <td>13.196760</td>\n",
       "      <td>0.134360</td>\n",
       "      <td>-0.242466</td>\n",
       "      <td>0.074483</td>\n",
       "      <td>-0.488929</td>\n",
       "      <td>0.487404</td>\n",
       "    </tr>\n",
       "  </tbody>\n",
       "</table>\n",
       "</div>"
      ],
      "text/plain": [
       "        week     claims  trend.unemploy  trend.filling  trend.job     sp500  \\\n",
       "0 2010-01-03  13.386595        0.219882      -0.318452   0.117500 -0.417633   \n",
       "1 2010-01-10  13.624218        0.219882      -0.194838   0.168794 -0.425480   \n",
       "2 2010-01-17  13.398741        0.236143      -0.292477   0.117500 -0.465229   \n",
       "3 2010-01-24  13.137549        0.203353      -0.194838   0.106918 -0.481751   \n",
       "4 2010-01-31  13.196760        0.134360      -0.242466   0.074483 -0.488929   \n",
       "\n",
       "        vix  \n",
       "0  0.122654  \n",
       "1  0.110445  \n",
       "2  0.532339  \n",
       "3  0.428645  \n",
       "4  0.487404  "
      ]
     },
     "execution_count": 3,
     "metadata": {},
     "output_type": "execute_result"
    }
   ],
   "source": [
    "# can also consider transform=False\n",
    "raw_df = load_iclaims(transform=True)\n",
    "raw_df.dtypes\n",
    "\n",
    "df = raw_df.copy()\n",
    "df.head()"
   ]
  },
  {
   "cell_type": "code",
   "execution_count": 4,
   "metadata": {
    "ExecuteTime": {
     "end_time": "2021-12-16T20:09:34.223732Z",
     "start_time": "2021-12-16T20:09:34.191302Z"
    }
   },
   "outputs": [],
   "source": [
    "test_size=52\n",
    "\n",
    "train_df=df[:-test_size]\n",
    "test_df=df[-test_size:]"
   ]
  },
  {
   "cell_type": "markdown",
   "metadata": {},
   "source": [
    "### Define Missing Data\n",
    "Now, we manually created a dataset with a few missing values in the response variable."
   ]
  },
  {
   "cell_type": "code",
   "execution_count": 5,
   "metadata": {
    "ExecuteTime": {
     "end_time": "2021-12-16T20:09:54.254440Z",
     "start_time": "2021-12-16T20:09:54.218923Z"
    }
   },
   "outputs": [
    {
     "data": {
      "text/plain": [
       "array([53, 54, 55, 56, 57, 58, 59, 60, 61, 62, 63, 64, 65, 66, 67, 68, 69,\n",
       "       70, 71, 72, 73, 74, 75, 76, 77, 78, 79, 80, 81, 82, 83, 84, 85, 86,\n",
       "       87, 88, 89, 90, 91, 92, 93, 94, 95, 96, 97, 98, 99])"
      ]
     },
     "execution_count": 5,
     "metadata": {},
     "output_type": "execute_result"
    }
   ],
   "source": [
    "na_idx = np.arange(53, 100, 1)\n",
    "na_idx"
   ]
  },
  {
   "cell_type": "code",
   "execution_count": 6,
   "metadata": {
    "ExecuteTime": {
     "end_time": "2021-12-16T20:09:54.689400Z",
     "start_time": "2021-12-16T20:09:54.658226Z"
    }
   },
   "outputs": [],
   "source": [
    "train_df_na = train_df.copy()\n",
    "train_df_na.iloc[na_idx, 1] = np.nan"
   ]
  },
  {
   "cell_type": "markdown",
   "metadata": {},
   "source": [
    "## Exponential Smoothing Examples"
   ]
  },
  {
   "cell_type": "markdown",
   "metadata": {},
   "source": [
    "### ETS"
   ]
  },
  {
   "cell_type": "code",
   "execution_count": 7,
   "metadata": {
    "ExecuteTime": {
     "end_time": "2021-12-16T20:09:58.040978Z",
     "start_time": "2021-12-16T20:09:56.665111Z"
    }
   },
   "outputs": [
    {
     "name": "stderr",
     "output_type": "stream",
     "text": [
      "2023-01-20 18:00:54 - orbit - INFO - Sampling (PyStan) with chains: 4, cores: 8, temperature: 1.000, warmups (per chain): 225 and samples(per chain): 25.\n",
      "2023-01-20 18:00:54 - orbit - INFO - First time in running stan model:ets. Expect 3 - 5 minutes for compilation.\n"
     ]
    },
    {
     "data": {
      "application/vnd.jupyter.widget-view+json": {
       "model_id": "a9951d5e0f484bbaa8c04d591377287c",
       "version_major": 2,
       "version_minor": 0
      },
      "text/plain": [
       "chain 1 |          | 00:00 Status"
      ]
     },
     "metadata": {},
     "output_type": "display_data"
    },
    {
     "data": {
      "application/vnd.jupyter.widget-view+json": {
       "model_id": "ff3dfabbea314e739920cb2ce8f652a4",
       "version_major": 2,
       "version_minor": 0
      },
      "text/plain": [
       "chain 2 |          | 00:00 Status"
      ]
     },
     "metadata": {},
     "output_type": "display_data"
    },
    {
     "data": {
      "application/vnd.jupyter.widget-view+json": {
       "model_id": "708f4c8dfafa474b8a830d855fe05476",
       "version_major": 2,
       "version_minor": 0
      },
      "text/plain": [
       "chain 3 |          | 00:00 Status"
      ]
     },
     "metadata": {},
     "output_type": "display_data"
    },
    {
     "data": {
      "application/vnd.jupyter.widget-view+json": {
       "model_id": "b487329c686f4c729d49ef69298e48be",
       "version_major": 2,
       "version_minor": 0
      },
      "text/plain": [
       "chain 4 |          | 00:00 Status"
      ]
     },
     "metadata": {},
     "output_type": "display_data"
    },
    {
     "name": "stdout",
     "output_type": "stream",
     "text": [
      "                                                                                                                                                                                                                                                                                                                                \n"
     ]
    }
   ],
   "source": [
    "ets = ETS(\n",
    "    response_col='claims',\n",
    "    date_col='week',\n",
    "    seasonality=52,\n",
    "    seed=2022,\n",
    "    estimator='stan-mcmc'\n",
    ")\n",
    "ets.fit(train_df_na)\n",
    "ets_predicted = ets.predict(df=train_df_na)"
   ]
  },
  {
   "cell_type": "markdown",
   "metadata": {},
   "source": [
    "### LGT"
   ]
  },
  {
   "cell_type": "code",
   "execution_count": null,
   "metadata": {
    "ExecuteTime": {
     "end_time": "2021-12-16T20:10:05.812782Z",
     "start_time": "2021-12-16T20:09:58.321187Z"
    }
   },
   "outputs": [
    {
     "name": "stderr",
     "output_type": "stream",
     "text": [
      "2023-01-20 18:01:01 - orbit - INFO - Sampling (PyStan) with chains: 4, cores: 8, temperature: 1.000, warmups (per chain): 225 and samples(per chain): 25.\n",
      "2023-01-20 18:01:01 - orbit - INFO - First time in running stan model:lgt. Expect 3 - 5 minutes for compilation.\n"
     ]
    }
   ],
   "source": [
    "lgt = LGT(\n",
    "    response_col='claims', \n",
    "    date_col='week',\n",
    "    estimator='stan-mcmc', \n",
    "    seasonality=52,\n",
    "    seed=2022\n",
    ")\n",
    "lgt.fit(df=train_df_na)\n",
    "lgt_predicted = lgt.predict(df=train_df_na)"
   ]
  },
  {
   "cell_type": "markdown",
   "metadata": {},
   "source": [
    "### DLT"
   ]
  },
  {
   "cell_type": "code",
   "execution_count": null,
   "metadata": {
    "ExecuteTime": {
     "end_time": "2021-12-16T20:10:10.012793Z",
     "start_time": "2021-12-16T20:10:05.814942Z"
    }
   },
   "outputs": [],
   "source": [
    "dlt = DLT(\n",
    "    response_col='claims',\n",
    "    date_col='week',\n",
    "    estimator='stan-mcmc',\n",
    "    seasonality=52,\n",
    "    seed=2022\n",
    ")\n",
    "dlt.fit(df=train_df_na)\n",
    "dlt_predicted = dlt.predict(df=train_df_na)"
   ]
  },
  {
   "cell_type": "markdown",
   "metadata": {},
   "source": [
    "### Summary\n",
    "\n",
    "Users can verify this behavior with a table and visualization of the actuals and predicted."
   ]
  },
  {
   "cell_type": "code",
   "execution_count": null,
   "metadata": {
    "ExecuteTime": {
     "end_time": "2021-12-16T20:10:10.058418Z",
     "start_time": "2021-12-16T20:10:10.015513Z"
    }
   },
   "outputs": [],
   "source": [
    "train_df_na['ets-predict'] = ets_predicted['prediction']\n",
    "train_df_na['lgt-predict'] = lgt_predicted['prediction']\n",
    "train_df_na['dlt-predict'] = dlt_predicted['prediction']"
   ]
  },
  {
   "cell_type": "code",
   "execution_count": null,
   "metadata": {
    "ExecuteTime": {
     "end_time": "2021-12-16T20:10:10.107290Z",
     "start_time": "2021-12-16T20:10:10.061136Z"
    }
   },
   "outputs": [],
   "source": [
    "# table summary of prediction during absence of observations\n",
    "train_df_na.iloc[na_idx, :].head(5)"
   ]
  },
  {
   "cell_type": "code",
   "execution_count": null,
   "metadata": {
    "ExecuteTime": {
     "end_time": "2021-12-16T20:10:10.962461Z",
     "start_time": "2021-12-16T20:10:10.930592Z"
    }
   },
   "outputs": [],
   "source": [
    "from orbit.constants.palette import OrbitPalette\n",
    "\n",
    "# just to get some color from orbit palette\n",
    "orbit_palette = [\n",
    "    OrbitPalette.BLACK.value,\n",
    "    OrbitPalette.BLUE.value, \n",
    "    OrbitPalette.GREEN.value, \n",
    "    OrbitPalette.YELLOW.value,\n",
    "]"
   ]
  },
  {
   "cell_type": "code",
   "execution_count": null,
   "metadata": {
    "ExecuteTime": {
     "end_time": "2021-12-16T20:10:14.115976Z",
     "start_time": "2021-12-16T20:10:13.357609Z"
    }
   },
   "outputs": [],
   "source": [
    "pred_list = ['ets-predict', 'lgt-predict', 'dlt-predict']\n",
    "fig, axes = plt.subplots(len(pred_list), 1, figsize=(16, 16))\n",
    "for idx, p in enumerate(pred_list):\n",
    "    axes[idx].scatter(train_df_na['week'], train_df_na['claims'].values, \n",
    "                      label='actuals' if idx == 0 else '', color=orbit_palette[0], alpha=0.5)\n",
    "    axes[idx].plot(train_df_na['week'], train_df_na[p].values, \n",
    "                   label=p, color=orbit_palette[idx + 1], lw=2.5)\n",
    "    fig.legend()\n",
    "    fig.tight_layout()"
   ]
  },
  {
   "cell_type": "markdown",
   "metadata": {},
   "source": [
    "## First Observation Exception"
   ]
  },
  {
   "cell_type": "markdown",
   "metadata": {},
   "source": [
    "It is worth pointing out that the very first value of the response variable cannot be missing since this is the starting point of the time series fitting. **An error message will be raised when the first observation in response is missing.**"
   ]
  },
  {
   "cell_type": "code",
   "execution_count": null,
   "metadata": {
    "ExecuteTime": {
     "end_time": "2021-12-16T20:11:05.798766Z",
     "start_time": "2021-12-16T20:11:05.703192Z"
    }
   },
   "outputs": [],
   "source": [
    "na_idx2 = list(na_idx) + [0]\n",
    "train_df_na2 = train_df.copy()\n",
    "train_df_na2.iloc[na_idx2, 1] = np.nan\n",
    "ets.fit(train_df_na2)"
   ]
  }
 ],
 "metadata": {
  "kernelspec": {
   "display_name": "orbit39-cmdstan",
   "language": "python",
   "name": "orbit39-cmdstan"
  },
  "language_info": {
   "codemirror_mode": {
    "name": "ipython",
    "version": 3
   },
   "file_extension": ".py",
   "mimetype": "text/x-python",
   "name": "python",
   "nbconvert_exporter": "python",
   "pygments_lexer": "ipython3",
   "version": "3.9.15"
  },
  "toc": {
   "base_numbering": 1,
   "nav_menu": {},
   "number_sections": true,
   "sideBar": true,
   "skip_h1_title": true,
   "title_cell": "Table of Contents",
   "title_sidebar": "Contents",
   "toc_cell": false,
   "toc_position": {},
   "toc_section_display": true,
   "toc_window_display": true
  }
 },
 "nbformat": 4,
 "nbformat_minor": 4
}
